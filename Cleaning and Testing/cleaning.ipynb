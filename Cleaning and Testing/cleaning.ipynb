{
 "cells": [
  {
   "cell_type": "code",
   "execution_count": 2,
   "metadata": {},
   "outputs": [],
   "source": [
    "import pandas as pd"
   ]
  },
  {
   "cell_type": "code",
   "execution_count": 3,
   "metadata": {},
   "outputs": [],
   "source": [
    "df = pd.read_csv(r'C:\\Users\\nnoar\\OneDrive\\Desktop\\housing.csv')"
   ]
  },
  {
   "cell_type": "code",
   "execution_count": 4,
   "metadata": {},
   "outputs": [
    {
     "data": {
      "text/html": [
       "<div>\n",
       "<style scoped>\n",
       "    .dataframe tbody tr th:only-of-type {\n",
       "        vertical-align: middle;\n",
       "    }\n",
       "\n",
       "    .dataframe tbody tr th {\n",
       "        vertical-align: top;\n",
       "    }\n",
       "\n",
       "    .dataframe thead th {\n",
       "        text-align: right;\n",
       "    }\n",
       "</style>\n",
       "<table border=\"1\" class=\"dataframe\">\n",
       "  <thead>\n",
       "    <tr style=\"text-align: right;\">\n",
       "      <th></th>\n",
       "      <th>id</th>\n",
       "      <th>url</th>\n",
       "      <th>region</th>\n",
       "      <th>region_url</th>\n",
       "      <th>price</th>\n",
       "      <th>type</th>\n",
       "      <th>sqfeet</th>\n",
       "      <th>beds</th>\n",
       "      <th>baths</th>\n",
       "      <th>cats_allowed</th>\n",
       "      <th>...</th>\n",
       "      <th>wheelchair_access</th>\n",
       "      <th>electric_vehicle_charge</th>\n",
       "      <th>comes_furnished</th>\n",
       "      <th>laundry_options</th>\n",
       "      <th>parking_options</th>\n",
       "      <th>image_url</th>\n",
       "      <th>description</th>\n",
       "      <th>lat</th>\n",
       "      <th>long</th>\n",
       "      <th>state</th>\n",
       "    </tr>\n",
       "  </thead>\n",
       "  <tbody>\n",
       "    <tr>\n",
       "      <th>0</th>\n",
       "      <td>7049044568</td>\n",
       "      <td>https://reno.craigslist.org/apa/d/reno-beautif...</td>\n",
       "      <td>reno / tahoe</td>\n",
       "      <td>https://reno.craigslist.org</td>\n",
       "      <td>1148</td>\n",
       "      <td>apartment</td>\n",
       "      <td>1078</td>\n",
       "      <td>3</td>\n",
       "      <td>2.0</td>\n",
       "      <td>1</td>\n",
       "      <td>...</td>\n",
       "      <td>0</td>\n",
       "      <td>0</td>\n",
       "      <td>0</td>\n",
       "      <td>w/d in unit</td>\n",
       "      <td>carport</td>\n",
       "      <td>https://images.craigslist.org/01616_daghmBUvTC...</td>\n",
       "      <td>Ridgeview by Vintage is where you will find al...</td>\n",
       "      <td>39.5483</td>\n",
       "      <td>-119.796</td>\n",
       "      <td>ca</td>\n",
       "    </tr>\n",
       "    <tr>\n",
       "      <th>1</th>\n",
       "      <td>7049047186</td>\n",
       "      <td>https://reno.craigslist.org/apa/d/reno-reduced...</td>\n",
       "      <td>reno / tahoe</td>\n",
       "      <td>https://reno.craigslist.org</td>\n",
       "      <td>1200</td>\n",
       "      <td>condo</td>\n",
       "      <td>1001</td>\n",
       "      <td>2</td>\n",
       "      <td>2.0</td>\n",
       "      <td>0</td>\n",
       "      <td>...</td>\n",
       "      <td>0</td>\n",
       "      <td>0</td>\n",
       "      <td>0</td>\n",
       "      <td>w/d hookups</td>\n",
       "      <td>carport</td>\n",
       "      <td>https://images.craigslist.org/00V0V_5va0MkgO9q...</td>\n",
       "      <td>Conveniently located in the middle town of Ren...</td>\n",
       "      <td>39.5026</td>\n",
       "      <td>-119.789</td>\n",
       "      <td>ca</td>\n",
       "    </tr>\n",
       "    <tr>\n",
       "      <th>2</th>\n",
       "      <td>7043634882</td>\n",
       "      <td>https://reno.craigslist.org/apa/d/sparks-state...</td>\n",
       "      <td>reno / tahoe</td>\n",
       "      <td>https://reno.craigslist.org</td>\n",
       "      <td>1813</td>\n",
       "      <td>apartment</td>\n",
       "      <td>1683</td>\n",
       "      <td>2</td>\n",
       "      <td>2.0</td>\n",
       "      <td>1</td>\n",
       "      <td>...</td>\n",
       "      <td>0</td>\n",
       "      <td>0</td>\n",
       "      <td>0</td>\n",
       "      <td>w/d in unit</td>\n",
       "      <td>attached garage</td>\n",
       "      <td>https://images.craigslist.org/00t0t_erYqC6LgB8...</td>\n",
       "      <td>2BD | 2BA | 1683SQFTDiscover exceptional servi...</td>\n",
       "      <td>39.6269</td>\n",
       "      <td>-119.708</td>\n",
       "      <td>ca</td>\n",
       "    </tr>\n",
       "    <tr>\n",
       "      <th>3</th>\n",
       "      <td>7049045324</td>\n",
       "      <td>https://reno.craigslist.org/apa/d/reno-1x1-fir...</td>\n",
       "      <td>reno / tahoe</td>\n",
       "      <td>https://reno.craigslist.org</td>\n",
       "      <td>1095</td>\n",
       "      <td>apartment</td>\n",
       "      <td>708</td>\n",
       "      <td>1</td>\n",
       "      <td>1.0</td>\n",
       "      <td>1</td>\n",
       "      <td>...</td>\n",
       "      <td>0</td>\n",
       "      <td>0</td>\n",
       "      <td>0</td>\n",
       "      <td>w/d in unit</td>\n",
       "      <td>carport</td>\n",
       "      <td>https://images.craigslist.org/00303_3HSJz75zlI...</td>\n",
       "      <td>MOVE IN SPECIAL FREE WASHER/DRYER WITH 6 OR 12...</td>\n",
       "      <td>39.4477</td>\n",
       "      <td>-119.771</td>\n",
       "      <td>ca</td>\n",
       "    </tr>\n",
       "    <tr>\n",
       "      <th>4</th>\n",
       "      <td>7049043759</td>\n",
       "      <td>https://reno.craigslist.org/apa/d/reno-no-long...</td>\n",
       "      <td>reno / tahoe</td>\n",
       "      <td>https://reno.craigslist.org</td>\n",
       "      <td>289</td>\n",
       "      <td>apartment</td>\n",
       "      <td>250</td>\n",
       "      <td>0</td>\n",
       "      <td>1.0</td>\n",
       "      <td>1</td>\n",
       "      <td>...</td>\n",
       "      <td>1</td>\n",
       "      <td>0</td>\n",
       "      <td>1</td>\n",
       "      <td>laundry on site</td>\n",
       "      <td>NaN</td>\n",
       "      <td>https://images.craigslist.org/01616_fALAWFV8zQ...</td>\n",
       "      <td>Move In Today: Reno Low-Cost, Clean &amp; Furnishe...</td>\n",
       "      <td>39.5357</td>\n",
       "      <td>-119.805</td>\n",
       "      <td>ca</td>\n",
       "    </tr>\n",
       "  </tbody>\n",
       "</table>\n",
       "<p>5 rows × 22 columns</p>\n",
       "</div>"
      ],
      "text/plain": [
       "           id                                                url  \\\n",
       "0  7049044568  https://reno.craigslist.org/apa/d/reno-beautif...   \n",
       "1  7049047186  https://reno.craigslist.org/apa/d/reno-reduced...   \n",
       "2  7043634882  https://reno.craigslist.org/apa/d/sparks-state...   \n",
       "3  7049045324  https://reno.craigslist.org/apa/d/reno-1x1-fir...   \n",
       "4  7049043759  https://reno.craigslist.org/apa/d/reno-no-long...   \n",
       "\n",
       "         region                   region_url  price       type  sqfeet  beds  \\\n",
       "0  reno / tahoe  https://reno.craigslist.org   1148  apartment    1078     3   \n",
       "1  reno / tahoe  https://reno.craigslist.org   1200      condo    1001     2   \n",
       "2  reno / tahoe  https://reno.craigslist.org   1813  apartment    1683     2   \n",
       "3  reno / tahoe  https://reno.craigslist.org   1095  apartment     708     1   \n",
       "4  reno / tahoe  https://reno.craigslist.org    289  apartment     250     0   \n",
       "\n",
       "   baths  cats_allowed  ...  wheelchair_access  electric_vehicle_charge  \\\n",
       "0    2.0             1  ...                  0                        0   \n",
       "1    2.0             0  ...                  0                        0   \n",
       "2    2.0             1  ...                  0                        0   \n",
       "3    1.0             1  ...                  0                        0   \n",
       "4    1.0             1  ...                  1                        0   \n",
       "\n",
       "   comes_furnished  laundry_options  parking_options  \\\n",
       "0                0      w/d in unit          carport   \n",
       "1                0      w/d hookups          carport   \n",
       "2                0      w/d in unit  attached garage   \n",
       "3                0      w/d in unit          carport   \n",
       "4                1  laundry on site              NaN   \n",
       "\n",
       "                                           image_url  \\\n",
       "0  https://images.craigslist.org/01616_daghmBUvTC...   \n",
       "1  https://images.craigslist.org/00V0V_5va0MkgO9q...   \n",
       "2  https://images.craigslist.org/00t0t_erYqC6LgB8...   \n",
       "3  https://images.craigslist.org/00303_3HSJz75zlI...   \n",
       "4  https://images.craigslist.org/01616_fALAWFV8zQ...   \n",
       "\n",
       "                                         description      lat     long  state  \n",
       "0  Ridgeview by Vintage is where you will find al...  39.5483 -119.796     ca  \n",
       "1  Conveniently located in the middle town of Ren...  39.5026 -119.789     ca  \n",
       "2  2BD | 2BA | 1683SQFTDiscover exceptional servi...  39.6269 -119.708     ca  \n",
       "3  MOVE IN SPECIAL FREE WASHER/DRYER WITH 6 OR 12...  39.4477 -119.771     ca  \n",
       "4  Move In Today: Reno Low-Cost, Clean & Furnishe...  39.5357 -119.805     ca  \n",
       "\n",
       "[5 rows x 22 columns]"
      ]
     },
     "execution_count": 4,
     "metadata": {},
     "output_type": "execute_result"
    }
   ],
   "source": [
    "df.head()"
   ]
  },
  {
   "cell_type": "code",
   "execution_count": 5,
   "metadata": {},
   "outputs": [
    {
     "data": {
      "text/plain": [
       "Index(['id', 'url', 'region', 'region_url', 'price', 'type', 'sqfeet', 'beds',\n",
       "       'baths', 'cats_allowed', 'dogs_allowed', 'smoking_allowed',\n",
       "       'wheelchair_access', 'electric_vehicle_charge', 'comes_furnished',\n",
       "       'laundry_options', 'parking_options', 'image_url', 'description', 'lat',\n",
       "       'long', 'state'],\n",
       "      dtype='object')"
      ]
     },
     "execution_count": 5,
     "metadata": {},
     "output_type": "execute_result"
    }
   ],
   "source": [
    "df.columns"
   ]
  },
  {
   "cell_type": "code",
   "execution_count": 6,
   "metadata": {},
   "outputs": [],
   "source": [
    "df_1 = df.drop(columns={'id','url','region_url','image_url','description'})"
   ]
  },
  {
   "cell_type": "code",
   "execution_count": 7,
   "metadata": {},
   "outputs": [
    {
     "data": {
      "text/plain": [
       "ca    33085\n",
       "fl    31929\n",
       "tx    31137\n",
       "nc    18628\n",
       "mi    14529\n",
       "ga    13841\n",
       "oh    12884\n",
       "tn    11541\n",
       "co    11308\n",
       "va    11063\n",
       "ny     9991\n",
       "sc     9932\n",
       "pa     9911\n",
       "il     9706\n",
       "al     8196\n",
       "or     8079\n",
       "ks     7910\n",
       "ia     7488\n",
       "mn     7468\n",
       "md     7451\n",
       "la     7304\n",
       "wa     7061\n",
       "az     6753\n",
       "wi     6646\n",
       "in     6416\n",
       "ok     5788\n",
       "nj     5711\n",
       "ky     5419\n",
       "ut     5194\n",
       "ms     4973\n",
       "ma     4926\n",
       "id     4466\n",
       "ct     3765\n",
       "nd     3428\n",
       "ar     3149\n",
       "nm     2917\n",
       "nv     2846\n",
       "ne     2697\n",
       "dc     2502\n",
       "ak     2169\n",
       "mo     2158\n",
       "de     2048\n",
       "ri     1889\n",
       "hi     1840\n",
       "sd     1782\n",
       "nh     1761\n",
       "mt     1339\n",
       "wv      819\n",
       "vt      527\n",
       "me      420\n",
       "wy      187\n",
       "Name: state, dtype: int64"
      ]
     },
     "execution_count": 7,
     "metadata": {},
     "output_type": "execute_result"
    }
   ],
   "source": [
    "df_1['state'].value_counts()"
   ]
  },
  {
   "cell_type": "code",
   "execution_count": 8,
   "metadata": {},
   "outputs": [],
   "source": [
    "ohio_df = df_1.loc[df_1['state'] == 'oh']"
   ]
  },
  {
   "cell_type": "code",
   "execution_count": 9,
   "metadata": {},
   "outputs": [
    {
     "data": {
      "text/html": [
       "<div>\n",
       "<style scoped>\n",
       "    .dataframe tbody tr th:only-of-type {\n",
       "        vertical-align: middle;\n",
       "    }\n",
       "\n",
       "    .dataframe tbody tr th {\n",
       "        vertical-align: top;\n",
       "    }\n",
       "\n",
       "    .dataframe thead th {\n",
       "        text-align: right;\n",
       "    }\n",
       "</style>\n",
       "<table border=\"1\" class=\"dataframe\">\n",
       "  <thead>\n",
       "    <tr style=\"text-align: right;\">\n",
       "      <th></th>\n",
       "      <th>region</th>\n",
       "      <th>price</th>\n",
       "      <th>type</th>\n",
       "      <th>sqfeet</th>\n",
       "      <th>beds</th>\n",
       "      <th>baths</th>\n",
       "      <th>cats_allowed</th>\n",
       "      <th>dogs_allowed</th>\n",
       "      <th>smoking_allowed</th>\n",
       "      <th>wheelchair_access</th>\n",
       "      <th>electric_vehicle_charge</th>\n",
       "      <th>comes_furnished</th>\n",
       "      <th>laundry_options</th>\n",
       "      <th>parking_options</th>\n",
       "      <th>lat</th>\n",
       "      <th>long</th>\n",
       "      <th>state</th>\n",
       "    </tr>\n",
       "  </thead>\n",
       "  <tbody>\n",
       "    <tr>\n",
       "      <th>218910</th>\n",
       "      <td>cincinnati</td>\n",
       "      <td>865</td>\n",
       "      <td>apartment</td>\n",
       "      <td>954</td>\n",
       "      <td>2</td>\n",
       "      <td>1.5</td>\n",
       "      <td>1</td>\n",
       "      <td>1</td>\n",
       "      <td>1</td>\n",
       "      <td>0</td>\n",
       "      <td>0</td>\n",
       "      <td>0</td>\n",
       "      <td>laundry on site</td>\n",
       "      <td>off-street parking</td>\n",
       "      <td>39.0300</td>\n",
       "      <td>-84.5590</td>\n",
       "      <td>oh</td>\n",
       "    </tr>\n",
       "    <tr>\n",
       "      <th>218959</th>\n",
       "      <td>akron / canton</td>\n",
       "      <td>865</td>\n",
       "      <td>apartment</td>\n",
       "      <td>694</td>\n",
       "      <td>1</td>\n",
       "      <td>1.0</td>\n",
       "      <td>1</td>\n",
       "      <td>1</td>\n",
       "      <td>1</td>\n",
       "      <td>1</td>\n",
       "      <td>0</td>\n",
       "      <td>0</td>\n",
       "      <td>w/d in unit</td>\n",
       "      <td>off-street parking</td>\n",
       "      <td>41.1379</td>\n",
       "      <td>-81.5409</td>\n",
       "      <td>oh</td>\n",
       "    </tr>\n",
       "    <tr>\n",
       "      <th>218969</th>\n",
       "      <td>cincinnati</td>\n",
       "      <td>672</td>\n",
       "      <td>apartment</td>\n",
       "      <td>750</td>\n",
       "      <td>1</td>\n",
       "      <td>1.0</td>\n",
       "      <td>1</td>\n",
       "      <td>1</td>\n",
       "      <td>1</td>\n",
       "      <td>0</td>\n",
       "      <td>0</td>\n",
       "      <td>0</td>\n",
       "      <td>laundry in bldg</td>\n",
       "      <td>off-street parking</td>\n",
       "      <td>38.9941</td>\n",
       "      <td>-84.6420</td>\n",
       "      <td>oh</td>\n",
       "    </tr>\n",
       "    <tr>\n",
       "      <th>218983</th>\n",
       "      <td>cincinnati</td>\n",
       "      <td>835</td>\n",
       "      <td>apartment</td>\n",
       "      <td>830</td>\n",
       "      <td>2</td>\n",
       "      <td>1.0</td>\n",
       "      <td>1</td>\n",
       "      <td>1</td>\n",
       "      <td>1</td>\n",
       "      <td>0</td>\n",
       "      <td>0</td>\n",
       "      <td>0</td>\n",
       "      <td>NaN</td>\n",
       "      <td>off-street parking</td>\n",
       "      <td>39.3402</td>\n",
       "      <td>-84.3998</td>\n",
       "      <td>oh</td>\n",
       "    </tr>\n",
       "    <tr>\n",
       "      <th>219024</th>\n",
       "      <td>akron / canton</td>\n",
       "      <td>895</td>\n",
       "      <td>apartment</td>\n",
       "      <td>1000</td>\n",
       "      <td>2</td>\n",
       "      <td>1.0</td>\n",
       "      <td>0</td>\n",
       "      <td>0</td>\n",
       "      <td>0</td>\n",
       "      <td>0</td>\n",
       "      <td>0</td>\n",
       "      <td>0</td>\n",
       "      <td>w/d hookups</td>\n",
       "      <td>attached garage</td>\n",
       "      <td>40.9797</td>\n",
       "      <td>-81.4739</td>\n",
       "      <td>oh</td>\n",
       "    </tr>\n",
       "  </tbody>\n",
       "</table>\n",
       "</div>"
      ],
      "text/plain": [
       "                region  price       type  sqfeet  beds  baths  cats_allowed  \\\n",
       "218910      cincinnati    865  apartment     954     2    1.5             1   \n",
       "218959  akron / canton    865  apartment     694     1    1.0             1   \n",
       "218969      cincinnati    672  apartment     750     1    1.0             1   \n",
       "218983      cincinnati    835  apartment     830     2    1.0             1   \n",
       "219024  akron / canton    895  apartment    1000     2    1.0             0   \n",
       "\n",
       "        dogs_allowed  smoking_allowed  wheelchair_access  \\\n",
       "218910             1                1                  0   \n",
       "218959             1                1                  1   \n",
       "218969             1                1                  0   \n",
       "218983             1                1                  0   \n",
       "219024             0                0                  0   \n",
       "\n",
       "        electric_vehicle_charge  comes_furnished  laundry_options  \\\n",
       "218910                        0                0  laundry on site   \n",
       "218959                        0                0      w/d in unit   \n",
       "218969                        0                0  laundry in bldg   \n",
       "218983                        0                0              NaN   \n",
       "219024                        0                0      w/d hookups   \n",
       "\n",
       "           parking_options      lat     long state  \n",
       "218910  off-street parking  39.0300 -84.5590    oh  \n",
       "218959  off-street parking  41.1379 -81.5409    oh  \n",
       "218969  off-street parking  38.9941 -84.6420    oh  \n",
       "218983  off-street parking  39.3402 -84.3998    oh  \n",
       "219024     attached garage  40.9797 -81.4739    oh  "
      ]
     },
     "execution_count": 9,
     "metadata": {},
     "output_type": "execute_result"
    }
   ],
   "source": [
    "ohio_df.head()"
   ]
  },
  {
   "cell_type": "code",
   "execution_count": 10,
   "metadata": {},
   "outputs": [
    {
     "data": {
      "text/plain": [
       "w/d hookups           3400\n",
       "laundry in bldg       3000\n",
       "w/d in unit           2459\n",
       "laundry on site       1521\n",
       "no laundry on site     128\n",
       "Name: laundry_options, dtype: int64"
      ]
     },
     "execution_count": 10,
     "metadata": {},
     "output_type": "execute_result"
    }
   ],
   "source": [
    "ohio_df['laundry_options'].value_counts()"
   ]
  },
  {
   "cell_type": "code",
   "execution_count": 11,
   "metadata": {},
   "outputs": [
    {
     "name": "stderr",
     "output_type": "stream",
     "text": [
      "<ipython-input-11-5c631aafc823>:1: SettingWithCopyWarning: \n",
      "A value is trying to be set on a copy of a slice from a DataFrame\n",
      "\n",
      "See the caveats in the documentation: https://pandas.pydata.org/pandas-docs/stable/user_guide/indexing.html#returning-a-view-versus-a-copy\n",
      "  ohio_df.dropna(inplace=True)\n"
     ]
    },
    {
     "data": {
      "text/plain": [
       "<bound method DataFrame.info of                         region  price          type  sqfeet  beds  baths  \\\n",
       "218910              cincinnati    865     apartment     954     2    1.5   \n",
       "218959          akron / canton    865     apartment     694     1    1.0   \n",
       "218969              cincinnati    672     apartment     750     1    1.0   \n",
       "219024          akron / canton    895     apartment    1000     2    1.0   \n",
       "219032          akron / canton   1020     apartment     946     1    1.0   \n",
       "...                        ...    ...           ...     ...   ...    ...   \n",
       "235393  zanesville / cambridge    956     apartment    1220     3    1.5   \n",
       "235395  zanesville / cambridge    956     apartment    1220     3    1.5   \n",
       "235396  zanesville / cambridge    729     apartment     886     2    1.0   \n",
       "235397  zanesville / cambridge    956     apartment    1220     3    1.5   \n",
       "235399  zanesville / cambridge    595  manufactured    1000     2    1.5   \n",
       "\n",
       "        cats_allowed  dogs_allowed  smoking_allowed  wheelchair_access  \\\n",
       "218910             1             1                1                  0   \n",
       "218959             1             1                1                  1   \n",
       "218969             1             1                1                  0   \n",
       "219024             0             0                0                  0   \n",
       "219032             1             1                1                  0   \n",
       "...              ...           ...              ...                ...   \n",
       "235393             1             1                1                  0   \n",
       "235395             1             1                1                  0   \n",
       "235396             1             1                1                  0   \n",
       "235397             1             1                1                  0   \n",
       "235399             0             0                1                  0   \n",
       "\n",
       "        electric_vehicle_charge  comes_furnished  laundry_options  \\\n",
       "218910                        0                0  laundry on site   \n",
       "218959                        0                0      w/d in unit   \n",
       "218969                        0                0  laundry in bldg   \n",
       "219024                        0                0      w/d hookups   \n",
       "219032                        0                0      w/d in unit   \n",
       "...                         ...              ...              ...   \n",
       "235393                        0                0      w/d hookups   \n",
       "235395                        0                0      w/d hookups   \n",
       "235396                        0                0  laundry in bldg   \n",
       "235397                        0                0      w/d hookups   \n",
       "235399                        0                0      w/d in unit   \n",
       "\n",
       "           parking_options      lat     long state  \n",
       "218910  off-street parking  39.0300 -84.5590    oh  \n",
       "218959  off-street parking  41.1379 -81.5409    oh  \n",
       "218969  off-street parking  38.9941 -84.6420    oh  \n",
       "219024     attached garage  40.9797 -81.4739    oh  \n",
       "219032  off-street parking  41.2491 -81.3383    oh  \n",
       "...                    ...      ...      ...   ...  \n",
       "235393  off-street parking  40.0427 -82.4566    oh  \n",
       "235395  off-street parking  40.0427 -82.4566    oh  \n",
       "235396      street parking  39.9803 -82.0421    oh  \n",
       "235397  off-street parking  40.0427 -82.4566    oh  \n",
       "235399  off-street parking  40.3172 -82.0560    oh  \n",
       "\n",
       "[9246 rows x 17 columns]>"
      ]
     },
     "execution_count": 11,
     "metadata": {},
     "output_type": "execute_result"
    }
   ],
   "source": [
    "ohio_df.dropna(inplace=True)\n",
    "ohio_df.info"
   ]
  },
  {
   "cell_type": "code",
   "execution_count": 12,
   "metadata": {},
   "outputs": [],
   "source": [
    "great_lakes = df_1[df_1['state'].isin(['oh','wi','mn','mi','il','ny','pa','in'])]\n"
   ]
  },
  {
   "cell_type": "code",
   "execution_count": 13,
   "metadata": {},
   "outputs": [
    {
     "name": "stderr",
     "output_type": "stream",
     "text": [
      "<ipython-input-13-e18d6a322183>:1: SettingWithCopyWarning: \n",
      "A value is trying to be set on a copy of a slice from a DataFrame\n",
      "\n",
      "See the caveats in the documentation: https://pandas.pydata.org/pandas-docs/stable/user_guide/indexing.html#returning-a-view-versus-a-copy\n",
      "  great_lakes.dropna(inplace=True)\n"
     ]
    }
   ],
   "source": [
    "great_lakes.dropna(inplace=True)\n"
   ]
  },
  {
   "cell_type": "code",
   "execution_count": 14,
   "metadata": {},
   "outputs": [
    {
     "data": {
      "text/plain": [
       "<bound method DataFrame.info of                     region  price       type  sqfeet  beds  baths  \\\n",
       "80254   bloomington-normal    850  apartment    1100     2    1.0   \n",
       "80295   bloomington-normal    625  apartment     900     2    1.0   \n",
       "80565              chicago   2910  apartment    1500     3    2.0   \n",
       "80767              chicago   2085       loft     662     0    1.0   \n",
       "80838              chicago    840  apartment     700     1    1.0   \n",
       "...                    ...    ...        ...     ...   ...    ...   \n",
       "346649              wausau    595     duplex    1200     3    1.5   \n",
       "346650              wausau    850  apartment    1000     3    2.0   \n",
       "346651              wausau    800  townhouse    1269     3    2.0   \n",
       "346652              wausau    800  townhouse    1269     3    2.0   \n",
       "346654              wausau    800  townhouse    1269     3    2.0   \n",
       "\n",
       "        cats_allowed  dogs_allowed  smoking_allowed  wheelchair_access  \\\n",
       "80254              1             1                1                  0   \n",
       "80295              1             1                1                  0   \n",
       "80565              1             1                0                  0   \n",
       "80767              1             1                0                  1   \n",
       "80838              1             1                0                  0   \n",
       "...              ...           ...              ...                ...   \n",
       "346649             0             0                0                  0   \n",
       "346650             1             1                0                  0   \n",
       "346651             1             1                0                  0   \n",
       "346652             1             1                0                  0   \n",
       "346654             1             1                0                  0   \n",
       "\n",
       "        electric_vehicle_charge  comes_furnished  laundry_options  \\\n",
       "80254                         0                0      w/d hookups   \n",
       "80295                         0                0  laundry on site   \n",
       "80565                         0                0      w/d in unit   \n",
       "80767                         0                0      w/d in unit   \n",
       "80838                         0                0  laundry in bldg   \n",
       "...                         ...              ...              ...   \n",
       "346649                        0                0      w/d in unit   \n",
       "346650                        0                0      w/d in unit   \n",
       "346651                        0                0      w/d in unit   \n",
       "346652                        0                0      w/d in unit   \n",
       "346654                        0                0      w/d in unit   \n",
       "\n",
       "           parking_options      lat     long state  \n",
       "80254       street parking  40.4785 -88.9503    il  \n",
       "80295   off-street parking  40.4783 -88.9489    il  \n",
       "80565       street parking  41.8962 -87.6685    il  \n",
       "80767      attached garage  41.8971 -87.6223    il  \n",
       "80838   off-street parking  41.9268 -88.0687    il  \n",
       "...                    ...      ...      ...   ...  \n",
       "346649     attached garage  44.3805 -89.8440    wi  \n",
       "346650     attached garage  44.4617 -89.5376    wi  \n",
       "346651     attached garage  44.3736 -89.8098    wi  \n",
       "346652     attached garage  44.3736 -89.8098    wi  \n",
       "346654     attached garage  44.3736 -89.8098    wi  \n",
       "\n",
       "[53176 rows x 17 columns]>"
      ]
     },
     "execution_count": 14,
     "metadata": {},
     "output_type": "execute_result"
    }
   ],
   "source": [
    "great_lakes.info"
   ]
  },
  {
   "cell_type": "code",
   "execution_count": 15,
   "metadata": {},
   "outputs": [
    {
     "data": {
      "text/plain": [
       "region                     0\n",
       "price                      0\n",
       "type                       0\n",
       "sqfeet                     0\n",
       "beds                       0\n",
       "baths                      0\n",
       "cats_allowed               0\n",
       "dogs_allowed               0\n",
       "smoking_allowed            0\n",
       "wheelchair_access          0\n",
       "electric_vehicle_charge    0\n",
       "comes_furnished            0\n",
       "laundry_options            0\n",
       "parking_options            0\n",
       "lat                        0\n",
       "long                       0\n",
       "state                      0\n",
       "dtype: int64"
      ]
     },
     "execution_count": 15,
     "metadata": {},
     "output_type": "execute_result"
    }
   ],
   "source": [
    "great_lakes.isna().sum()"
   ]
  },
  {
   "cell_type": "code",
   "execution_count": 16,
   "metadata": {},
   "outputs": [],
   "source": [
    "##great_lakes.to_csv('great_lakes.csv')"
   ]
  },
  {
   "cell_type": "code",
   "execution_count": 20,
   "metadata": {},
   "outputs": [],
   "source": [
    "region_list = great_lakes['region'].value_counts()"
   ]
  },
  {
   "cell_type": "code",
   "execution_count": 23,
   "metadata": {},
   "outputs": [
    {
     "data": {
      "text/plain": [
       "80254     bloomington-normal\n",
       "80295     bloomington-normal\n",
       "80565                chicago\n",
       "80767                chicago\n",
       "80838                chicago\n",
       "                 ...        \n",
       "346649                wausau\n",
       "346650                wausau\n",
       "346651                wausau\n",
       "346652                wausau\n",
       "346654                wausau\n",
       "Name: region, Length: 53176, dtype: object"
      ]
     },
     "execution_count": 23,
     "metadata": {},
     "output_type": "execute_result"
    }
   ],
   "source": [
    "great_lakes['region'].replace('',)\n"
   ]
  },
  {
   "cell_type": "code",
   "execution_count": 28,
   "metadata": {},
   "outputs": [
    {
     "data": {
      "text/plain": [
       "2047       1\n",
       "1873       1\n",
       "1937       1\n",
       "2067       1\n",
       "454        1\n",
       "        ... \n",
       "800     1290\n",
       "1200    1501\n",
       "1100    1547\n",
       "900     1804\n",
       "1000    2449\n",
       "Name: sqfeet, Length: 1870, dtype: int64"
      ]
     },
     "execution_count": 28,
     "metadata": {},
     "output_type": "execute_result"
    }
   ],
   "source": [
    "great_lakes['sqfeet'].value_counts(ascending=True)"
   ]
  },
  {
   "cell_type": "code",
   "execution_count": 36,
   "metadata": {},
   "outputs": [],
   "source": [
    "great_lakes = great_lakes[great_lakes['sqfeet'] <= 5000]"
   ]
  },
  {
   "cell_type": "code",
   "execution_count": 37,
   "metadata": {},
   "outputs": [],
   "source": [
    "great_lakes = great_lakes[great_lakes['sqfeet'] >= 100]"
   ]
  },
  {
   "cell_type": "code",
   "execution_count": 38,
   "metadata": {},
   "outputs": [],
   "source": [
    "bins = [100,499.9,999.9,1999.9,2999.9,3999.9,4999.9]\n",
    "names = ['100 - 500','500 - 1000','1000 - 2000','2000 - 3000','3000 - 4000','4000 - 5000']"
   ]
  },
  {
   "cell_type": "code",
   "execution_count": 39,
   "metadata": {},
   "outputs": [],
   "source": [
    "great_lakes['sqfeet_binned'] = pd.cut(great_lakes['sqfeet'],bins,labels=names,include_lowest=True)"
   ]
  },
  {
   "cell_type": "code",
   "execution_count": 44,
   "metadata": {},
   "outputs": [
    {
     "name": "stdout",
     "output_type": "stream",
     "text": [
      "<class 'pandas.core.frame.DataFrame'>\n",
      "Int64Index: 52981 entries, 80254 to 346654\n",
      "Data columns (total 17 columns):\n",
      " #   Column                   Non-Null Count  Dtype   \n",
      "---  ------                   --------------  -----   \n",
      " 0   region                   52981 non-null  object  \n",
      " 1   price                    52981 non-null  int64   \n",
      " 2   type                     52981 non-null  object  \n",
      " 3   beds                     52981 non-null  int64   \n",
      " 4   baths                    52981 non-null  float64 \n",
      " 5   cats_allowed             52981 non-null  int64   \n",
      " 6   dogs_allowed             52981 non-null  int64   \n",
      " 7   smoking_allowed          52981 non-null  int64   \n",
      " 8   wheelchair_access        52981 non-null  int64   \n",
      " 9   electric_vehicle_charge  52981 non-null  int64   \n",
      " 10  comes_furnished          52981 non-null  int64   \n",
      " 11  laundry_options          52981 non-null  object  \n",
      " 12  parking_options          52981 non-null  object  \n",
      " 13  lat                      52981 non-null  float64 \n",
      " 14  long                     52981 non-null  float64 \n",
      " 15  state                    52981 non-null  object  \n",
      " 16  sqfeet_binned            52979 non-null  category\n",
      "dtypes: category(1), float64(3), int64(8), object(5)\n",
      "memory usage: 6.9+ MB\n"
     ]
    }
   ],
   "source": [
    "##great_lakes = great_lakes.drop('sqfeet',axis=1)\n",
    "great_lakes.info()"
   ]
  },
  {
   "cell_type": "code",
   "execution_count": 45,
   "metadata": {},
   "outputs": [],
   "source": [
    "##great_lakes.to_csv('great_lakes.csv',index=False)\n"
   ]
  }
 ],
 "metadata": {
  "interpreter": {
   "hash": "2c99e9fdba74eaac10fbab343373af76b25a75552a47fd4ce928ab922f07f2e4"
  },
  "kernelspec": {
   "display_name": "Python 3.8.8 64-bit ('base': conda)",
   "language": "python",
   "name": "python3"
  },
  "language_info": {
   "codemirror_mode": {
    "name": "ipython",
    "version": 3
   },
   "file_extension": ".py",
   "mimetype": "text/x-python",
   "name": "python",
   "nbconvert_exporter": "python",
   "pygments_lexer": "ipython3",
   "version": "3.8.8"
  },
  "orig_nbformat": 4
 },
 "nbformat": 4,
 "nbformat_minor": 2
}
